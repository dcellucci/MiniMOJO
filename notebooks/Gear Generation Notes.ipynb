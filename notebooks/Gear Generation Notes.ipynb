{
 "cells": [
  {
   "cell_type": "markdown",
   "metadata": {},
   "source": [
    "# Gear Generation Notes\n",
    "\n",
    "## Initial Design Assumptions\n",
    "\n",
    "Assuming a $14.5^{\\circ}$ **pressure angle**. A lower pressure angle is less sensitive to manufacturing errors and less prone to backlash, two qualities we are concerned about.\n",
    "\n",
    "## Notable Constraints\n",
    "\n",
    "The **Pitch Diameter** $D$ is set as 10.3 mm\n",
    "\n",
    "The **Root Diameter** $D_R$ is set by the size of the hole that clears the servo base. The diameter of the servo base is 5.21 mm. \n",
    "\n",
    "$$\n",
    "D_R = D - 2d\n",
    "$$\n",
    "\n",
    "where $d$ is the **dedendum** of the gear \n",
    "\n",
    "$$\n",
    "d = 1.157/P\n",
    "$$\n",
    "\n",
    "1.157 is a value that depends on the pressure angle, and $P$ is the **Diametrical Pitch** (not to be confused with the pitch diameter)\n",
    "\n",
    "$$\n",
    "P = N/D\n",
    "$$\n",
    "\n",
    "Where $N$ is the number of gear teeth. \n",
    "\n",
    "Therefore, \n",
    "\n",
    "$$\n",
    "D_R = D - 2\\frac{1.157D}{N}\n",
    "$$\n",
    "\n",
    "Additionally, the **outer diameter** needs to be such that the arms being reinforced from the other side have clearance. The maximum outer diameter is therefore 13.754 mm. It can be related to the pitch diameter by\n",
    "\n",
    "$$\n",
    "D_O = D + 2a\n",
    "$$\n",
    "\n",
    "Where $a$ is the **addendum** and is calculated using\n",
    "\n",
    "$$\n",
    "a = \\frac{1}{P} = \\frac{D}{N}\n",
    "$$\n",
    "\n",
    "therefore\n",
    "$$\n",
    "D_O = D+2\\frac{D}{N}\n",
    "$$\n",
    "\n",
    "and we can solve for N to find the maximum number of gear teeth for a known pitch diameter and root diameter. \n",
    "\n",
    "\n"
   ]
  },
  {
   "cell_type": "code",
   "execution_count": 26,
   "metadata": {
    "collapsed": false
   },
   "outputs": [
    {
     "data": {
      "text/plain": [
       "<matplotlib.text.Text at 0x10de52850>"
      ]
     },
     "execution_count": 26,
     "metadata": {},
     "output_type": "execute_result"
    },
    {
     "data": {
      "image/png": "[encoded data removed]",
      "text/plain": [
       "<matplotlib.figure.Figure at 0x10de6a250>"
      ]
     },
     "metadata": {},
     "output_type": "display_data"
    }
   ],
   "source": [
    "#Physical Parameters\n",
    "D = 10.3 #mm\n",
    "minD_R = 5.21 #mm\n",
    "maxD_O = 13.754 #mm\n",
    "\n",
    "#Going through a large number of possible teeth numbers\n",
    "n_vals = range(4,20)\n",
    "drvals = []\n",
    "dovals = []\n",
    "\n",
    "for nval in n_vals:\n",
    "    drvals.append(D-2*1.157*D/nval)\n",
    "    dovals.append(D+2*D/nval)\n",
    "    \n",
    "plot(n_vals,drvals,'o',label=\"Root Diameter\")\n",
    "plot(n_vals,dovals,'o',label=\"Outside Diameter\")\n",
    "axhline(y=minD_R,linestyle='--', color ='r')\n",
    "text(14,14,\"Absolute Maximum\")\n",
    "axhline(y=maxD_O,linestyle='--', color ='r')\n",
    "text(14,12.5,\"With 1/32\\\" offset\")\n",
    "axhline(y=maxD_O-1.0/32*25.4*2,linestyle='--', color ='r')\n",
    "text(7,5.5,\"Absolute Minimum\")\n",
    "axhline(y=minD_R+1.0/32*25.4*2,linestyle='--', color ='r')\n",
    "text(10,7,\"With 1/32\\\" offset\")\n",
    "\n",
    "legend(loc=4)\n",
    "\n",
    "xlabel(\"Number of Gear Teeth\")\n",
    "ylabel(\"Diameter (mm)\")"
   ]
  },
  {
   "cell_type": "markdown",
   "metadata": {},
   "source": [
    "## Conclusions\n",
    "\n",
    "We find that the more stringent criterion on our design is the outer diameter. In order to accomodate the opposite arms, we need to choose a gear with at a minimum 12 teeth. We therefore choose a gear with 13 teeth to be safe. \n",
    "\n"
   ]
  },
  {
   "cell_type": "code",
   "execution_count": null,
   "metadata": {
    "collapsed": true
   },
   "outputs": [],
   "source": []
  },
  {
   "cell_type": "markdown",
   "metadata": {},
   "source": [
    "# Gear Generation Notes, Round 2\n",
    "\n",
    "## Revised Design Assumptions\n",
    "\n",
    "Assuming a $20^{\\circ}$ **pressure angle**. A higher pressure angle has higher tooth strength, but also exerts higher forces. Since we have switched from an FDM to a higher-resolution SLA process, a higher pressure angle is better aligned with the goals of the process.\n",
    "\n",
    "## Notable Constraints\n",
    "\n",
    "The **Pitch Diameter** $D$ is set as 10.3 mm\n",
    "\n",
    "The **Root Diameter** $D_R$ is set by the size of the hole that clears the servo base. The diameter of the servo base is 5.21 mm. \n",
    "\n",
    "$$\n",
    "D_R = D - 2d\n",
    "$$\n",
    "\n",
    "where $d$ is the **dedendum** of the gear \n",
    "\n",
    "$$\n",
    "d = 1.25/P\n",
    "$$\n",
    "\n",
    "1.25 is a value that depends on the pressure angle, and $P$ is the **Diametrical Pitch** (not to be confused with the pitch diameter)\n",
    "\n",
    "$$\n",
    "P = N/D\n",
    "$$\n",
    "\n",
    "Where $N$ is the number of gear teeth. \n",
    "\n",
    "Therefore, \n",
    "\n",
    "$$\n",
    "D_R = D - 2\\frac{1.25D}{N}\n",
    "$$\n",
    "\n",
    "Additionally, the **outer diameter** needs to be such that the arms being reinforced from the other side have clearance. The maximum outer diameter is therefore 13.754 mm. It can be related to the pitch diameter by\n",
    "\n",
    "$$\n",
    "D_O = D + 2a\n",
    "$$\n",
    "\n",
    "Where $a$ is the **addendum** and is calculated using\n",
    "\n",
    "$$\n",
    "a = \\frac{1}{P} = \\frac{D}{N}\n",
    "$$\n",
    "\n",
    "therefore\n",
    "$$\n",
    "D_O = D+2\\frac{D}{N}\n",
    "$$\n",
    "\n",
    "and we can solve for N to find the maximum number of gear teeth for a known pitch diameter and root diameter. \n",
    "\n",
    "\n"
   ]
  },
  {
   "cell_type": "code",
   "execution_count": 3,
   "metadata": {
    "collapsed": false
   },
   "outputs": [
    {
     "data": {
      "text/plain": [
       "<matplotlib.text.Text at 0x105d62310>"
      ]
     },
     "execution_count": 3,
     "metadata": {},
     "output_type": "execute_result"
    },
    {
     "data": {
      "image/png": "[encoded data removed]",
      "text/plain": [
       "<matplotlib.figure.Figure at 0x105d40110>"
      ]
     },
     "metadata": {},
     "output_type": "display_data"
    }
   ],
   "source": [
    "#Physical Parameters\n",
    "D = 10.3 #mm\n",
    "minD_R = 5.21 #mm\n",
    "maxD_O = 13.754 #mm\n",
    "\n",
    "#Going through a large number of possible teeth numbers\n",
    "n_vals = range(4,20)\n",
    "drvals = []\n",
    "dovals = []\n",
    "\n",
    "for nval in n_vals:\n",
    "    drvals.append(D-2*1.25*D/nval)\n",
    "    dovals.append(D+2*D/nval)\n",
    "    \n",
    "plot(n_vals,drvals,'o',label=\"Root Diameter\")\n",
    "plot(n_vals,dovals,'o',label=\"Outside Diameter\")\n",
    "axhline(y=minD_R,linestyle='--', color ='r')\n",
    "text(14,14,\"Absolute Maximum\")\n",
    "axhline(y=maxD_O,linestyle='--', color ='r')\n",
    "text(14,12.5,\"With 1/32\\\" offset\")\n",
    "axhline(y=maxD_O-1.0/32*25.4*2,linestyle='--', color ='r')\n",
    "text(7,5.5,\"Absolute Minimum\")\n",
    "axhline(y=minD_R+1.0/32*25.4*2,linestyle='--', color ='r')\n",
    "text(10,7,\"With 1/32\\\" offset\")\n",
    "\n",
    "legend(loc=4)\n",
    "\n",
    "xlabel(\"Number of Gear Teeth\")\n",
    "ylabel(\"Diameter (mm)\")"
   ]
  },
  {
   "cell_type": "code",
   "execution_count": null,
   "metadata": {
    "collapsed": true
   },
   "outputs": [],
   "source": []
  }
 ],
 "metadata": {
  "anaconda-cloud": {},
  "kernelspec": {
   "display_name": "Python 2",
   "language": "python",
   "name": "python2"
  },
  "language_info": {
   "codemirror_mode": {
    "name": "ipython",
    "version": 2
   },
   "file_extension": ".py",
   "mimetype": "text/x-python",
   "name": "python",
   "nbconvert_exporter": "python",
   "pygments_lexer": "ipython2",
   "version": "2.7.9"
  }
 },
 "nbformat": 4,
 "nbformat_minor": 0
}
